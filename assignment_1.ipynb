{
 "cells": [
  {
   "cell_type": "markdown",
   "metadata": {},
   "source": [
    "1. In the below elements which of them are values or an expression? eg:- values can be integer or string and expressions will be mathematical operators.  \n",
    "ans: *: arithmetic operator\n",
    "\n",
    "'hello' : string \n",
    "\n",
    "-87.8: float \n",
    "\n",
    "-: arithmetic operator  \n",
    "\n",
    "/: arithmeric operator \n",
    "\n",
    "+: arithmetic operator\n",
    "\n",
    "6: int \n",
    "\n",
    "\n",
    "2. What is the difference between string and variable? \n",
    "\n",
    "ans: a string is anything that is that can be passed inside single '' or double quotes \"\".  \n",
    "a variable can hold any kind of value that can be used in any part of the program.\n",
    "\n",
    "3. Describe three different data types.\n",
    "\n",
    "ans: int, float, bool \n",
    "\n",
    "4. What is an expression made up of? What do all expressions do?\n",
    "\n",
    "ans : an expression is a combination of values, variables, operators, and calls to functions. Expressions need to be evaluated. If you ask Python to print an expression, the interpreter evaluates the expression and displays the result. \n",
    "\n",
    "5. This assignment statements, like spam = 10. What is the difference between an expression and a statement? \n",
    "\n",
    "ans: while expressions are the composition of variables , operators and values, the statement is a standalone unit of execution and does not return anything.\n",
    "\n",
    "6. After running the following code, what does the variable bacon contain? bacon = 22 bacon + 1\n",
    "\n",
    "ans: bacon will not contain anything. because of incorrect syntax, code will not execute.\n",
    "\n",
    "7. What should the values of the following two terms be? 'spam' + 'spamspam' 'spam' * 3 \n",
    "\n",
    "ans : 'spamspamspamspamspamspamspamspamspamspam'\n",
    "\n",
    "8. Why is eggs a valid variable name while 100 is invalid? \n",
    "\n",
    "ans : eggs is a valid name because the name of a variable cannot start with a number. \n",
    "\n",
    "9. What three functions can be used to get the integer, floating-point number, or string version of a value? \n",
    "\n",
    "\n",
    "10. Why does this expression cause an error? How can you fix it? 'I have eaten ' + 99 + ' burritos.'\n",
    "\n",
    "ans : we can use fstrings \n",
    "```b = 99 \n",
    "print(f'i have eaten {b} burritos')\n",
    "\n",
    "i have eaten 99 burritos\n",
    "```\n"
   ]
  },
  {
   "cell_type": "code",
   "execution_count": 3,
   "metadata": {},
   "outputs": [
    {
     "name": "stdout",
     "output_type": "stream",
     "text": [
      "i have eaten 99 burritos\n"
     ]
    }
   ],
   "source": [
    "\n",
    "\n",
    "\n"
   ]
  },
  {
   "cell_type": "code",
   "execution_count": null,
   "metadata": {},
   "outputs": [],
   "source": []
  }
 ],
 "metadata": {
  "interpreter": {
   "hash": "38740d3277777e2cd7c6c2cc9d8addf5118fdf3f82b1b39231fd12aeac8aee8b"
  },
  "kernelspec": {
   "display_name": "Python 3.8.6 64-bit",
   "language": "python",
   "name": "python3"
  },
  "language_info": {
   "codemirror_mode": {
    "name": "ipython",
    "version": 3
   },
   "file_extension": ".py",
   "mimetype": "text/x-python",
   "name": "python",
   "nbconvert_exporter": "python",
   "pygments_lexer": "ipython3",
   "version": "3.8.6"
  },
  "orig_nbformat": 4
 },
 "nbformat": 4,
 "nbformat_minor": 2
}
