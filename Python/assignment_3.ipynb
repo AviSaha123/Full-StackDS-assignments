{
 "cells": [
  {
   "cell_type": "markdown",
   "metadata": {},
   "source": [
    "1. Why are functions advantageous to have in your programs?\n",
    "\n",
    "ans: functions are advantageous in scenarios when we have to reuse a chunk of code repeatedly. \n",
    "\n",
    "2. When does the code in a function run: when it's specified or when it's called?\n",
    "\n",
    "ans: the code in a function runs when it is called. \n",
    "\n",
    "3. What statement creates a function?\n",
    "\n",
    "ans : def \n",
    "\n",
    "4. What is the difference between a function and a function call?\n",
    "\n",
    "ans: a function is where we specify the code to which the funtion operates and we use function call to apply that code in a certain context.\n",
    "\n",
    "5. How many global scopes are there in a Python program? How many local scopes?\n",
    "\n",
    "ans: there is only one global scope in python execution.  \n",
    "\n",
    "6. What happens to variables in a local scope when the function call returns?\n",
    "\n",
    "ans: a local variable retains its value until the next time the function is called A local variable becomes undefined after the function call completes The local variable can be used outside the function any time after the function call completes\n",
    "\n",
    "7. What is the concept of a return value? Is it possible to have a return value in an expression?\n",
    "ans: A return is a value that a function returns to the calling script or function when it completes its task.\n",
    "\n",
    "8. If a function does not have a return statement, what is the return value of a call to that function?\n",
    "\n",
    "ans:  If there are no return statements in the function it returns None\n",
    "\n",
    "9. How do you make a function variable refer to the global variable?\n",
    "\n",
    "ans: We use the keyword ```Global``` to refer to the global variable.\n",
    "\n",
    "10. What is the data type of None?\n",
    "\n",
    "ans: None is defined to indicate null values\n",
    "\n",
    "11. What does the sentence import areallyourpetsnamederic do?\n",
    "\n",
    "ans: it imports the functions areallyourpetsnamederic\n",
    "\n",
    "12. If you had a bacon() feature in a spam module, what would you call it after importing spam?\n",
    "\n",
    "ans: we can import it by ```from spam import bacon``` and use ```bacon()``` to call it.\n",
    "\n",
    "\n",
    "13. What can you do to save a programme from crashing if it encounters an error?\n",
    "\n",
    "ans: we can do error handling on it. \n",
    "\n",
    "14. What is the purpose of the try clause? What is the purpose of the except clause?\n",
    "\n",
    "ans: the try clause is used to catch an exception in a block of code. the except is used to handle the exception if there is one.\n"
   ]
  },
  {
   "cell_type": "markdown",
   "metadata": {},
   "source": []
  }
 ],
 "metadata": {
  "language_info": {
   "name": "python"
  },
  "orig_nbformat": 4
 },
 "nbformat": 4,
 "nbformat_minor": 2
}
