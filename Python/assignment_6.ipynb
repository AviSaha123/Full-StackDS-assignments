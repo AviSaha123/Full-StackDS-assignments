{
 "cells": [
  {
   "cell_type": "markdown",
   "metadata": {},
   "source": [
    "1.\tWhat are escape characters, and how do you use them?\n",
    "\n",
    "An escape character is a backslash \\ followed by the character that we want to insert \n",
    "\n",
    "2.\tWhat do the escape characters n and t stand for?\n",
    "\n",
    "We use \\n to enter a new line of execution and \\t for entering a whitespace tab\n",
    "\n",
    "3.\tWhat is the way to include backslash characters in a string?\n",
    "\n",
    "“This is the way we add “\\characters \\” to the string” \n",
    "\n",
    "4.\tThe string \"Howl's Moving Castle\" is a correct value. Why isn't the single quote character in the word Howl's not escaped a problem?\n",
    "\n",
    "When a string is enclosed in double quotes it negates all the characters containing single quotes.\n",
    "\n",
    "\n",
    "6. What are the values of the given expressions?\n",
    "\n",
    "'Hello, world!'[1]\n",
    "\n",
    "e\n",
    "\n",
    "'Hello, world!'[0:5]\n",
    "\n",
    "Hello\n",
    "\n",
    "'Hello, world!'[:5]\n",
    "\n",
    "Hello\n",
    "\n",
    "'Hello, world!'[3:]\n",
    "\n",
    "lo, world\n",
    "\n",
    "7. What are the values of the following expressions?\n",
    "\n",
    "'Hello'.upper()\n",
    "\n",
    "HELLO\n",
    "\n",
    "'Hello'.upper().isupper()\n",
    "\n",
    "True\n",
    "\n",
    "'Hello'.upper().lower()\n",
    "\n",
    "hello\n",
    "\n",
    "8. What are the values of the following expressions?\n",
    "\n",
    "'Remember, remember, the fifth of July.'.split()\n",
    "'-'.join('There can only one.'.split())\n",
    "\n",
    "There-can-only-one.\n",
    "\n",
    "9. What are the methods for right-justifying, left-justifying, and centering a string?\n",
    "\n",
    "ljust(), rjust(), center()\n",
    "\n",
    "10. What is the best way to remove whitespace characters from the start or end?\n",
    "\n",
    "The best way is to use the strip() method in a string.\n",
    "\n"
   ]
  },
  {
   "cell_type": "code",
   "execution_count": null,
   "metadata": {},
   "outputs": [],
   "source": []
  }
 ],
 "metadata": {
  "interpreter": {
   "hash": "38740d3277777e2cd7c6c2cc9d8addf5118fdf3f82b1b39231fd12aeac8aee8b"
  },
  "kernelspec": {
   "display_name": "Python 3.8.6 64-bit",
   "language": "python",
   "name": "python3"
  },
  "language_info": {
   "codemirror_mode": {
    "name": "ipython",
    "version": 3
   },
   "file_extension": ".py",
   "mimetype": "text/x-python",
   "name": "python",
   "nbconvert_exporter": "python",
   "pygments_lexer": "ipython3",
   "version": "3.8.6"
  },
  "orig_nbformat": 4
 },
 "nbformat": 4,
 "nbformat_minor": 2
}
