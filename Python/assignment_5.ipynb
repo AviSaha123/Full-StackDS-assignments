{
 "cells": [
  {
   "cell_type": "markdown",
   "metadata": {},
   "source": [
    "* What does an empty dictionary's code look like?\n",
    "\n",
    "ans: an empty dictionary is initiazed with {}\n",
    "\n",
    "* What is the value of a dictionary value with the key 'foo' and the value 42?\n",
    "\n",
    "ans: ```dict = {'foo': 42}``` \n",
    "\n",
    "``` dict.values()```\n",
    "\n",
    "``` 42```\n",
    "\n",
    "* What is the most significant distinction between a dictionary and a list?\n",
    "\n",
    "ans: The most significant difference between a list and a dictionary is that the list can store values of any data type in it in a ordered manner and dictionary can store data in key value pairs.\n",
    "\n",
    "```a = [2,4,'sdf',3.4,]```\n",
    "\n",
    "```dict = {'foo': 42}```\n",
    "\n",
    "\n",
    "* What happens if you try to access spam['foo'] if spam is {'bar': 100}?\n",
    "\n",
    "ans: We will get an error because there is no key in the name of 'foo' in spam\n",
    "\n",
    "* If a dictionary is stored in spam, what is the difference between the expressions 'cat' in spam and 'cat' in spam.keys()?\n",
    "\n",
    "ans: 'cat' in spam returns a boolean value indicating whether the string is present in the whole dictionary, ''cat' in spam.keys() returns a boolean value indicating whether the string is present within the keys of the dictionary.\n",
    "\n",
    "* If a dictionary is stored in spam, what is the difference between the expressions 'cat' in spam and 'cat' in spam.values()?\n",
    "\n",
    "'cat' in spam returns a boolean value indicating whether the string is present in the whole dictionary, ''cat' in spam.values() returns a boolean value indicating whether the string is present within the values of the dictionary.\n",
    "\n",
    "\n",
    "\n",
    "* How do you \"pretty print\" dictionary values using which module and function?\n",
    "\n",
    "ans: to pretty print the dictionary values, we would have to import pprint and iuse the functions ```pprint() and pformat()```\n"
   ]
  },
  {
   "cell_type": "markdown",
   "metadata": {},
   "source": []
  },
  {
   "cell_type": "code",
   "execution_count": null,
   "metadata": {},
   "outputs": [],
   "source": []
  }
 ],
 "metadata": {
  "interpreter": {
   "hash": "38740d3277777e2cd7c6c2cc9d8addf5118fdf3f82b1b39231fd12aeac8aee8b"
  },
  "kernelspec": {
   "display_name": "Python 3.8.6 64-bit",
   "language": "python",
   "name": "python3"
  },
  "language_info": {
   "codemirror_mode": {
    "name": "ipython",
    "version": 3
   },
   "file_extension": ".py",
   "mimetype": "text/x-python",
   "name": "python",
   "nbconvert_exporter": "python",
   "pygments_lexer": "ipython3",
   "version": "3.8.6"
  },
  "orig_nbformat": 4
 },
 "nbformat": 4,
 "nbformat_minor": 2
}
