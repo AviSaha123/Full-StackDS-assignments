{
 "cells": [
  {
   "cell_type": "code",
   "execution_count": 3,
   "metadata": {},
   "outputs": [
    {
     "data": {
      "text/plain": [
       "[1, 4, 41, 44, 45, 55, 77, 78, 87, 88, 99]"
      ]
     },
     "execution_count": 3,
     "metadata": {},
     "output_type": "execute_result"
    }
   ],
   "source": [
    "# Write a Python program to Extract Unique values dictionary values?\n",
    "dict = {\n",
    "    'code': [41,4,1,44,78,77],\n",
    "    'this': [41,87,77,1,55],\n",
    "    'problem': [88,45,4,99]\n",
    "}\n",
    "\n",
    "my_result = list(sorted({elem for val in dict.values() for elem in val}))\n",
    "my_result\n"
   ]
  },
  {
   "cell_type": "code",
   "execution_count": 1,
   "metadata": {},
   "outputs": [
    {
     "name": "stdout",
     "output_type": "stream",
     "text": [
      "Sum : 600\n"
     ]
    }
   ],
   "source": [
    "# 2. Write a Python program to find the sum of all items in a dictionary?\n",
    "def returnSum(myDict):\n",
    "\n",
    "    list = []\n",
    "    for i in myDict:\n",
    "        list.append(myDict[i])\n",
    "    final = sum(list)\n",
    "\n",
    "    return final\n",
    "\n",
    "\n",
    "# Driver Function\n",
    "dict = {'a': 100, 'b': 200, 'c': 300}\n",
    "print(\"Sum :\", returnSum(dict))\n"
   ]
  },
  {
   "cell_type": "code",
   "execution_count": 2,
   "metadata": {},
   "outputs": [
    {
     "name": "stdout",
     "output_type": "stream",
     "text": [
      "{1: 'a', 2: 'c', 4: 'd'}\n"
     ]
    }
   ],
   "source": [
    "# 3. Write a Python program to Merging two Dictionaries?\n",
    "dict_1 = {1: 'a', 2: 'b'}\n",
    "dict_2 = {2: 'c', 4: 'd'}\n",
    "\n",
    "print({**dict_1, **dict_2})\n"
   ]
  },
  {
   "cell_type": "code",
   "execution_count": 5,
   "metadata": {},
   "outputs": [
    {
     "name": "stdout",
     "output_type": "stream",
     "text": [
      "Resultant Dictionary : OrderedDict([('manjeet', '3'), ('akshat', '1'), ('nikhil', '2')])\n"
     ]
    }
   ],
   "source": [
    "# 5. Write a Python program to insertion at the beginning in OrderedDict?\n",
    "from collections import OrderedDict\n",
    "\n",
    "# initialising ordered_dict\n",
    "iniordered_dict = OrderedDict([('akshat', '1'), ('nikhil', '2')])\n",
    "\n",
    "# inserting items in starting of dict\n",
    "iniordered_dict.update({'manjeet': '3'})\n",
    "iniordered_dict.move_to_end('manjeet', last=False)\n",
    "\n",
    "# print result\n",
    "print(\"Resultant Dictionary : \"+str(iniordered_dict))\n"
   ]
  },
  {
   "cell_type": "code",
   "execution_count": 8,
   "metadata": {},
   "outputs": [
    {
     "name": "stdout",
     "output_type": "stream",
     "text": [
      "true\n"
     ]
    }
   ],
   "source": [
    "# 6. Write a Python program to check order of character in string using OrderedDict()?\n",
    "from collections import OrderedDict\n",
    "\n",
    "\n",
    "def checkOrder(input, pattern):\n",
    "\n",
    "    dict = OrderedDict.fromkeys(input)\n",
    "\n",
    "    ptrlen = 0\n",
    "    for key, value in dict.items():\n",
    "        if (key == pattern[ptrlen]):\n",
    "            ptrlen = ptrlen + 1\n",
    "\n",
    "        if (ptrlen == (len(pattern))):\n",
    "            return 'true'\n",
    "\n",
    "    return 'false'\n",
    "\n",
    "\n",
    "# Driver program\n",
    "if __name__ == \"__main__\":\n",
    "        input = 'engineers rock'\n",
    "        pattern = 'egr'\n",
    "        print(checkOrder(input, pattern))\n"
   ]
  },
  {
   "cell_type": "code",
   "execution_count": 11,
   "metadata": {},
   "outputs": [
    {
     "name": "stdout",
     "output_type": "stream",
     "text": [
      "sorting on the basis of keys\n",
      "(1, 43) (2, 9) (3, 8) (4, 23) (5, 10) (6, 77) \n",
      "sorting on the basis of values\n",
      "[(3, 8), (2, 9), (5, 10), (4, 23), (1, 43), (6, 77)]\n"
     ]
    }
   ],
   "source": [
    "# 7. Write a Python program to sort Python Dictionaries by Key or Value?\n",
    "key_value = {}\n",
    "\n",
    "key_value[5] = 10\n",
    "key_value[3] = 8\n",
    "key_value[6] = 77\n",
    "key_value[4] = 23\n",
    "key_value[2] = 9\n",
    "key_value[1] = 43\n",
    "\n",
    "print(\"sorting on the basis of keys\")\n",
    "\n",
    "for i in sorted(key_value):\n",
    "    print((i, key_value[i]), end=\" \")\n",
    "    \n",
    "print(\"\\nsorting on the basis of values\")\n",
    "\n",
    "print(sorted(key_value.items(), key=lambda keyval: (keyval[1], keyval[0])))\n"
   ]
  },
  {
   "cell_type": "code",
   "execution_count": null,
   "metadata": {},
   "outputs": [],
   "source": []
  }
 ],
 "metadata": {
  "interpreter": {
   "hash": "38740d3277777e2cd7c6c2cc9d8addf5118fdf3f82b1b39231fd12aeac8aee8b"
  },
  "kernelspec": {
   "display_name": "Python 3.8.6 64-bit",
   "language": "python",
   "name": "python3"
  },
  "language_info": {
   "codemirror_mode": {
    "name": "ipython",
    "version": 3
   },
   "file_extension": ".py",
   "mimetype": "text/x-python",
   "name": "python",
   "nbconvert_exporter": "python",
   "pygments_lexer": "ipython3",
   "version": "3.8.6"
  },
  "orig_nbformat": 4
 },
 "nbformat": 4,
 "nbformat_minor": 2
}
