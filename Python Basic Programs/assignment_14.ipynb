{
 "cells": [
  {
   "cell_type": "code",
   "execution_count": null,
   "metadata": {},
   "outputs": [],
   "source": [
    "\n",
    "\n",
    "\n",
    "# Question 6:\n",
    "# Please write a binary search function which searches an item in a sorted list. The\n",
    "# function should return the index of element to be searched in the list.\n"
   ]
  },
  {
   "cell_type": "code",
   "execution_count": 1,
   "metadata": {},
   "outputs": [
    {
     "name": "stdout",
     "output_type": "stream",
     "text": [
      "0 True\n",
      "1 False\n",
      "2 False\n",
      "3 False\n",
      "4 False\n",
      "5 False\n",
      "6 False\n",
      "7 True\n",
      "8 False\n"
     ]
    }
   ],
   "source": [
    "# Question 1:\n",
    "# Define a class with a generator which can iterate the numbers, which are divisible by7, between a given range 0 and n.\n",
    "\n",
    "\n",
    "def divChecker(n):\n",
    "    for i in range(n):\n",
    "        if i % 7 == 0:\n",
    "            value = True\n",
    "        else:\n",
    "            value = False\n",
    "        print(i, value)\n",
    "\n",
    "\n",
    "divChecker(9)\n",
    "\n"
   ]
  },
  {
   "cell_type": "code",
   "execution_count": 9,
   "metadata": {},
   "outputs": [
    {
     "data": {
      "text/plain": [
       "[('2', 2),\n",
       " ('3.', 1),\n",
       " ('3?', 1),\n",
       " ('New', 1),\n",
       " ('Python', 5),\n",
       " ('Read', 1),\n",
       " ('and', 1),\n",
       " ('between', 1),\n",
       " ('choosing', 1),\n",
       " ('or', 2),\n",
       " ('to', 1)]"
      ]
     },
     "execution_count": 9,
     "metadata": {},
     "output_type": "execute_result"
    }
   ],
   "source": [
    "# Question 2:\n",
    "# Write a program to compute the frequency of the words from the input. The output\n",
    "# should output after sorting the key alphanumerically.\n",
    "# Suppose the following input is supplied to the program:\n",
    "# New to Python or choosing between Python 2 and Python 3? Read Python 2 or\n",
    "# Python 3.\n",
    "# Then, the output should be:\n",
    "# 2: 2\n",
    "# 3.: 1\n",
    "# 3?: 1\n",
    "# New: 1\n",
    "# Python: 5\n",
    "# Read: 1\n",
    "# and: 1\n",
    "# between: 1\n",
    "# choosing: 1\n",
    "# or: 2\n",
    "# to: 1\n",
    "\n",
    "        \n",
    "def freq_check(sentence):\n",
    "    my_list = sentence.split()\n",
    "    frequency_dict = {}\n",
    "    visited = set() \n",
    "    list_len = len(my_list)\n",
    "    for i in range(list_len):\n",
    "        if my_list[i] in visited:\n",
    "            continue\n",
    "        else:\n",
    "            count = 0\n",
    "            element = my_list[i]\n",
    "            visited.add(my_list[i])\n",
    "            for j in range(list_len - i):\n",
    "                if my_list[j+i] == element:\n",
    "                    count += 1\n",
    "            frequency_dict[element] = count\n",
    "    d = frequency_dict.items()\n",
    "    sorted_keys = sorted(d)\n",
    "    return sorted_keys\n",
    "\n",
    "\n",
    "freq_check('New to Python or choosing between Python 2 and Python 3? Read Python 2 or Python 3.')\n"
   ]
  },
  {
   "cell_type": "code",
   "execution_count": 1,
   "metadata": {},
   "outputs": [
    {
     "name": "stdout",
     "output_type": "stream",
     "text": [
      "Male\n",
      "Female\n"
     ]
    }
   ],
   "source": [
    "# Define a class Person and its two child classes: Male and Female. All classes have a\n",
    "# method getGender which can print Male for Male class and Female for Female\n",
    "# class.\n",
    "class Person(object):\n",
    "    def getGender(self):\n",
    "        return \"Unknown\"\n",
    "\n",
    "\n",
    "class Male(Person):\n",
    "    def getGender(self):\n",
    "        return \"Male\"\n",
    "\n",
    "\n",
    "class Female(Person):\n",
    "    def getGender(self):\n",
    "        return \"Female\"\n",
    "\n",
    "\n",
    "# Test\n",
    "aMale = Male()\n",
    "aFemale = Female()\n",
    "print(aMale.getGender())\n",
    "print(aFemale.getGender())\n"
   ]
  },
  {
   "cell_type": "code",
   "execution_count": 2,
   "metadata": {},
   "outputs": [
    {
     "name": "stdout",
     "output_type": "stream",
     "text": [
      "I Play Hockey\n",
      "I Play Football\n",
      "I Love Hockey\n",
      "I Love Football\n",
      "You Play Hockey\n",
      "You Play Football\n",
      "You Love Hockey\n",
      "You Love Football\n"
     ]
    }
   ],
   "source": [
    "# Please write a program to generate all sentences where subject is in [I ,  You ] and\n",
    "# verb is in [ Play ,  Love ] and the object is in [ Hockey , Football ].\n",
    "subjects = [\"I\", \"You\"]\n",
    "verbs = [\"Play\", \"Love\"]\n",
    "objects = [\"Hockey\", \"Football\"]\n",
    "\n",
    "res = [[i, j, k] for i in subjects\n",
    "       for j in verbs\n",
    "       for k in objects]\n",
    "for x in res:\n",
    "    print(\" \".join(x))\n"
   ]
  },
  {
   "cell_type": "code",
   "execution_count": 6,
   "metadata": {},
   "outputs": [
    {
     "name": "stdout",
     "output_type": "stream",
     "text": [
      "82\n",
      "57\n",
      "82\n"
     ]
    }
   ],
   "source": [
    "\n",
    "# Question 5:\n",
    "# Please write a program to compress and decompress the string  \n",
    "# hello world!hello world!hello world!hello world! \n",
    "import sys \n",
    "import zlib \n",
    "\n",
    "text = b'hello world!hello world!hello world!hello world! '\n",
    "text_size = sys.getsizeof(text)\n",
    "print(text_size)\n",
    "compress = zlib.compress(text) \n",
    "compressed_size = sys.getsizeof(compress) \n",
    "print(compressed_size)\n",
    "decompress = zlib.decompress(compress)\n",
    "decompressed_size = sys.getsizeof(decompress)\n",
    "print(decompressed_size)"
   ]
  },
  {
   "cell_type": "code",
   "execution_count": null,
   "metadata": {},
   "outputs": [],
   "source": []
  }
 ],
 "metadata": {
  "interpreter": {
   "hash": "38740d3277777e2cd7c6c2cc9d8addf5118fdf3f82b1b39231fd12aeac8aee8b"
  },
  "kernelspec": {
   "display_name": "Python 3.8.6 64-bit",
   "language": "python",
   "name": "python3"
  },
  "language_info": {
   "codemirror_mode": {
    "name": "ipython",
    "version": 3
   },
   "file_extension": ".py",
   "mimetype": "text/x-python",
   "name": "python",
   "nbconvert_exporter": "python",
   "pygments_lexer": "ipython3",
   "version": "3.8.6"
  },
  "orig_nbformat": 4
 },
 "nbformat": 4,
 "nbformat_minor": 2
}
