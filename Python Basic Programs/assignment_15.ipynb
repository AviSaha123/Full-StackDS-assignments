{
 "cells": [
  {
   "cell_type": "code",
   "execution_count": null,
   "metadata": {},
   "outputs": [],
   "source": []
  },
  {
   "cell_type": "code",
   "execution_count": 6,
   "metadata": {},
   "outputs": [
    {
     "name": "stdout",
     "output_type": "stream",
     "text": [
      "0,35,70\n"
     ]
    }
   ],
   "source": [
    "# Question 1:\n",
    "# Please write a program using generator to print the numbers which can be divisible by 5 and\n",
    "# 7 between 0 and n in comma separated form while n is input by console.\n",
    "# Example:\n",
    "# If the following n is given as input to the program:\n",
    "# 100\n",
    "# Then, the output of the program should be:\n",
    "# 0, 35, 70\n",
    "\n",
    "def EvenGenerator(n):\n",
    "    i = 0\n",
    "    while i <= n:\n",
    "        if (i % 5 == 0) & (i %7 == 0):\n",
    "            yield i\n",
    "        i += 1\n",
    "\n",
    "\n",
    "n = int(input())\n",
    "values = []\n",
    "for i in EvenGenerator(n):\n",
    "    values.append(str(i))\n",
    "\n",
    "print(\",\".join(values))\n"
   ]
  },
  {
   "cell_type": "code",
   "execution_count": 8,
   "metadata": {},
   "outputs": [
    {
     "name": "stdout",
     "output_type": "stream",
     "text": [
      "0,2,4,6,8,10\n"
     ]
    }
   ],
   "source": [
    "\n",
    "\n",
    "# Question 2:\n",
    "# Please write a program using generator to print the even numbers between 0 and n in comma\n",
    "# separated form while n is input by console.\n",
    "# Example:\n",
    "# If the following n is given as input to the program:\n",
    "# 10\n",
    "# Then, the output of the program should be:\n",
    "# 0, 2, 4, 6, 8, 10\n",
    "\n",
    "def num_generator(n):\n",
    "    i = 0 \n",
    "    while i <= n :\n",
    "        if i %2 == 0:\n",
    "           yield i\n",
    "        i += 1\n",
    "\n",
    "\n",
    "n = int(input())\n",
    "values = []\n",
    "for i in num_generator(n):\n",
    "    values.append(str(i))\n",
    "\n",
    "print(\",\".join(values))\n"
   ]
  },
  {
   "cell_type": "code",
   "execution_count": 10,
   "metadata": {},
   "outputs": [
    {
     "name": "stdout",
     "output_type": "stream",
     "text": [
      "[0, 1, 1, 2, 3, 5, 8]\n"
     ]
    }
   ],
   "source": [
    "# Question 3:\n",
    "# The Fibonacci Sequence is computed based on the following formula:\n",
    "# f(n) = 0 if n = 0\n",
    "# f(n) = 1 if n = 1\n",
    "# f(n) = f(n-1)+f(n-2) if n & gt\n",
    "# 1\n",
    "# Please write a program using list comprehension to print the Fibonacci Sequence in comma\n",
    "# separated form with a given n input by console.\n",
    "# Example:\n",
    "# If the following n is given as input to the program:\n",
    "# 7\n",
    "\n",
    "# Then, the output of the program should be:\n",
    "# 0, 1, 1, 2, 3, 5, 8, 13\n",
    "n = int(input())\n",
    "myList = [0, 1]\n",
    "\n",
    "for i in range(2, n):\n",
    "    myList.append(myList[i-1] + myList[i-2])\n",
    "\n",
    "print(myList)\n"
   ]
  },
  {
   "cell_type": "code",
   "execution_count": 18,
   "metadata": {},
   "outputs": [
    {
     "name": "stdout",
     "output_type": "stream",
     "text": [
      "john\n",
      "google.com\n"
     ]
    }
   ],
   "source": [
    "# Question 4:\n",
    "# Assuming that we have some email addresses in the & quot\n",
    "# username@companyname.com & quot\n",
    "# format,\n",
    "# please write program to print the user name of a given email address. Both user names and\n",
    "# company names are composed of letters only.\n",
    "# Example:\n",
    "# If the following email address is given as input to the program:\n",
    "# john@google.com\n",
    "# Then, the output of the program should be:\n",
    "# john\n",
    "\n",
    "import re \n",
    "text = 'john@google.com'\n",
    "pattern = re.compile(r'([^@]+)')\n",
    "matches = pattern.finditer(text)\n",
    "for i in matches:\n",
    "    print(i[0])\n",
    "\n"
   ]
  }
 ],
 "metadata": {
  "interpreter": {
   "hash": "38740d3277777e2cd7c6c2cc9d8addf5118fdf3f82b1b39231fd12aeac8aee8b"
  },
  "kernelspec": {
   "display_name": "Python 3.8.6 64-bit",
   "language": "python",
   "name": "python3"
  },
  "language_info": {
   "name": "python",
   "version": "3.8.6"
  },
  "orig_nbformat": 4
 },
 "nbformat": 4,
 "nbformat_minor": 2
}
