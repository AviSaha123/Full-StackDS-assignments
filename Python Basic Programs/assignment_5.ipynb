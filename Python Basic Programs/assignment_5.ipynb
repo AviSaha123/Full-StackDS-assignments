{
 "cells": [
  {
   "cell_type": "code",
   "execution_count": 3,
   "metadata": {},
   "outputs": [
    {
     "name": "stdout",
     "output_type": "stream",
     "text": [
      " The LCM of  2  and  10  is  10\n"
     ]
    }
   ],
   "source": [
    "# 1. Write a Python Program to Find LCM?\n",
    "\n",
    "def lcm(num1,num2):\n",
    "    if num1 > num2:\n",
    "        max_num = num1\n",
    "    else:\n",
    "        max_num = num2\n",
    "\n",
    "    while True:\n",
    "        if(max_num % num1 == 0 and max_num % num2 == 0):\n",
    "                print(\" The LCM of \", num1, \" and \", num2, \" is \", max_num)\n",
    "                break\n",
    "        max_num = max_num+1\n",
    "lcm(2,10)"
   ]
  },
  {
   "cell_type": "code",
   "execution_count": 6,
   "metadata": {},
   "outputs": [
    {
     "name": "stdout",
     "output_type": "stream",
     "text": [
      "The H.C.F. of 8 and 12 is 4\n"
     ]
    }
   ],
   "source": [
    "# 2. Write a Python Program to Find HCF?\n",
    "def calculate_hcf(x, y):\n",
    "    # selecting the smaller number\n",
    "    if x > y:\n",
    "        smaller = y\n",
    "    else:\n",
    "        smaller = x\n",
    "    for i in range(1, smaller + 1):\n",
    "        if((x % i == 0) and (y % i == 0)):\n",
    "            hcf = i\n",
    "    return print(\"The H.C.F. of\", x, \"and\", y, \"is\", hcf)\n",
    "\n",
    "\n",
    "calculate_hcf(8,12)\n",
    "\n"
   ]
  },
  {
   "cell_type": "code",
   "execution_count": 7,
   "metadata": {},
   "outputs": [
    {
     "name": "stdout",
     "output_type": "stream",
     "text": [
      "The decimal value of 344 is:\n",
      "0b101011000 in binary.\n",
      "0o530 in octal.\n",
      "0x158 in hexadecimal.\n"
     ]
    }
   ],
   "source": [
    "# 3. Write a Python Program to Convert Decimal to Binary, Octal and Hexadecimal?\n",
    "dec = 344\n",
    "\n",
    "print(\"The decimal value of\", dec, \"is:\")\n",
    "print(bin(dec), \"in binary.\")\n",
    "print(oct(dec), \"in octal.\")\n",
    "print(hex(dec), \"in hexadecimal.\")\n"
   ]
  },
  {
   "cell_type": "code",
   "execution_count": 11,
   "metadata": {},
   "outputs": [
    {
     "name": "stdout",
     "output_type": "stream",
     "text": [
      "65\n",
      "67\n",
      "76\n"
     ]
    }
   ],
   "source": [
    "# 4. Write a Python Program To Find ASCII value of a character?\n",
    "\n",
    "print(ord('A'))\n",
    "print(ord('C'))\n",
    "print(ord('L'))"
   ]
  },
  {
   "cell_type": "code",
   "execution_count": 17,
   "metadata": {},
   "outputs": [
    {
     "data": {
      "text/plain": [
       "48"
      ]
     },
     "execution_count": 17,
     "metadata": {},
     "output_type": "execute_result"
    }
   ],
   "source": [
    "# 5. Write a Python Program to Make a Simple Calculator with 4 basic mathematical operations?\n",
    "def calculator(num1, num2, operation):\n",
    "    if operation == '+':\n",
    "        result = num1 +num2\n",
    "        return result \n",
    "    elif operation == '-':\n",
    "        result = num1 -num2\n",
    "        return result\n",
    "    elif operation == '/':\n",
    "        result = num1 / num2\n",
    "        return result \n",
    "    elif operation == '*' :\n",
    "        result = num1 * num2\n",
    "        return result\n",
    "    \n",
    "calculator(6,8,'+')\n",
    "calculator(6,8,'-')\n",
    "calculator(6,8,'/')\n",
    "calculator(6,8,'*')"
   ]
  },
  {
   "cell_type": "code",
   "execution_count": null,
   "metadata": {},
   "outputs": [],
   "source": []
  }
 ],
 "metadata": {
  "interpreter": {
   "hash": "38740d3277777e2cd7c6c2cc9d8addf5118fdf3f82b1b39231fd12aeac8aee8b"
  },
  "kernelspec": {
   "display_name": "Python 3.8.6 64-bit",
   "language": "python",
   "name": "python3"
  },
  "language_info": {
   "codemirror_mode": {
    "name": "ipython",
    "version": 3
   },
   "file_extension": ".py",
   "mimetype": "text/x-python",
   "name": "python",
   "nbconvert_exporter": "python",
   "pygments_lexer": "ipython3",
   "version": "3.8.6"
  },
  "orig_nbformat": 4
 },
 "nbformat": 4,
 "nbformat_minor": 2
}
